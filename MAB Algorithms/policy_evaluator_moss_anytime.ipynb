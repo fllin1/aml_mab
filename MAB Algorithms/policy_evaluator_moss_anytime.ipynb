{
 "cells": [
  {
   "cell_type": "code",
   "execution_count": 1,
   "metadata": {},
   "outputs": [],
   "source": [
    "import pandas as pd\n",
    "import numpy as np"
   ]
  },
  {
   "cell_type": "code",
   "execution_count": 5,
   "metadata": {},
   "outputs": [
    {
     "data": {
      "text/html": [
       "<div>\n",
       "<style scoped>\n",
       "    .dataframe tbody tr th:only-of-type {\n",
       "        vertical-align: middle;\n",
       "    }\n",
       "\n",
       "    .dataframe tbody tr th {\n",
       "        vertical-align: top;\n",
       "    }\n",
       "\n",
       "    .dataframe thead th {\n",
       "        text-align: right;\n",
       "    }\n",
       "</style>\n",
       "<table border=\"1\" class=\"dataframe\">\n",
       "  <thead>\n",
       "    <tr style=\"text-align: right;\">\n",
       "      <th></th>\n",
       "      <th>time</th>\n",
       "      <th>movie_id</th>\n",
       "      <th>user_id</th>\n",
       "      <th>binary_rating</th>\n",
       "    </tr>\n",
       "  </thead>\n",
       "  <tbody>\n",
       "    <tr>\n",
       "      <th>0</th>\n",
       "      <td>0</td>\n",
       "      <td>1961</td>\n",
       "      <td>1107</td>\n",
       "      <td>1</td>\n",
       "    </tr>\n",
       "    <tr>\n",
       "      <th>1</th>\n",
       "      <td>1</td>\n",
       "      <td>1259</td>\n",
       "      <td>1545</td>\n",
       "      <td>0</td>\n",
       "    </tr>\n",
       "    <tr>\n",
       "      <th>2</th>\n",
       "      <td>2</td>\n",
       "      <td>595</td>\n",
       "      <td>3304</td>\n",
       "      <td>1</td>\n",
       "    </tr>\n",
       "    <tr>\n",
       "      <th>3</th>\n",
       "      <td>3</td>\n",
       "      <td>260</td>\n",
       "      <td>5448</td>\n",
       "      <td>0</td>\n",
       "    </tr>\n",
       "    <tr>\n",
       "      <th>4</th>\n",
       "      <td>4</td>\n",
       "      <td>1784</td>\n",
       "      <td>3829</td>\n",
       "      <td>0</td>\n",
       "    </tr>\n",
       "  </tbody>\n",
       "</table>\n",
       "</div>"
      ],
      "text/plain": [
       "   time  movie_id  user_id  binary_rating\n",
       "0     0      1961     1107              1\n",
       "1     1      1259     1545              0\n",
       "2     2       595     3304              1\n",
       "3     3       260     5448              0\n",
       "4     4      1784     3829              0"
      ]
     },
     "execution_count": 5,
     "metadata": {},
     "output_type": "execute_result"
    }
   ],
   "source": [
    "data = pd.read_csv('../Data/dataset_1000_minimum_reviews.csv', index_col='Unnamed: 0')\n",
    "df = data[['time', 'movie_id', 'user_id', 'binary_rating']]\n",
    "df.head()"
   ]
  },
  {
   "cell_type": "code",
   "execution_count": 6,
   "metadata": {},
   "outputs": [],
   "source": [
    "def policy_evaluator_moss(dataframe, alpha):\n",
    "    # We stock the payoffs in a list\n",
    "    payoffs = []\n",
    "    # We pull each arm once to initialize history\n",
    "    history = dataframe.groupby('movie_id').first()\n",
    "    arms = dataframe['movie_id'].unique()\n",
    "    n_arms = len(arms)\n",
    "    history['movie_id'] = history.index\n",
    "    # We drop the rows associated to the initial pull\n",
    "    rows_to_drop = history['time']\n",
    "    history['time'] = 0\n",
    "    dataframe_copy = dataframe.copy()\n",
    "    dataframe_copy.drop(rows_to_drop, inplace=True)\n",
    "    dataframe_copy.reset_index(drop=True, inplace=True)\n",
    "    dataframe_copy['time'] = dataframe_copy.index\n",
    "    # We create a dict containing all the movies ID and their corresponding number of pulls\n",
    "    s = {}\n",
    "    for movie in arms:\n",
    "        s[movie] = 1\n",
    "    for t in range(1, len(dataframe_copy) + 1):\n",
    "        # We get t-th row of our dataframe\n",
    "        t_event = dataframe_copy[t-1:t]\n",
    "        # We get the recommendation of our algorithm\n",
    "        objective_function = {}\n",
    "        for k in arms:\n",
    "            objective_function[k] = history[history['movie_id'] == k]['binary_rating'].mean() + np.sqrt( ( (1 + alpha) / 2) * max(np.log( t / (n_arms * s[k] ) ), 0) / s[k] )\n",
    "        \n",
    "        arm_chosen = max(objective_function, key=objective_function.get)\n",
    "\n",
    "        s[arm_chosen] += 1\n",
    "\n",
    "        if arm_chosen == t_event['movie_id'].iloc[0]:\n",
    "            history.loc[len(history)] = t_event.iloc[0].to_list()\n",
    "            payoffs.append(t_event['binary_rating'].iloc[0])\n",
    "\n",
    "    return payoffs"
   ]
  },
  {
   "cell_type": "code",
   "execution_count": 7,
   "metadata": {},
   "outputs": [],
   "source": [
    "payoffs = policy_evaluator_moss(df, 1.35)"
   ]
  }
 ],
 "metadata": {
  "kernelspec": {
   "display_name": "Python 3",
   "language": "python",
   "name": "python3"
  },
  "language_info": {
   "codemirror_mode": {
    "name": "ipython",
    "version": 3
   },
   "file_extension": ".py",
   "mimetype": "text/x-python",
   "name": "python",
   "nbconvert_exporter": "python",
   "pygments_lexer": "ipython3",
   "version": "3.11.3"
  }
 },
 "nbformat": 4,
 "nbformat_minor": 2
}
