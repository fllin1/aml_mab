{
 "cells": [
  {
   "cell_type": "code",
   "execution_count": 1,
   "metadata": {},
   "outputs": [],
   "source": [
    "import pandas as pd\n",
    "import numpy as np\n",
    "import matplotlib.pyplot as plt\n",
    "\n",
    "from policy_evaluator_epsilon_greedy import policy_evaluator_epsilon_min"
   ]
  },
  {
   "cell_type": "code",
   "execution_count": 2,
   "metadata": {},
   "outputs": [
    {
     "data": {
      "text/html": [
       "<div>\n",
       "<style scoped>\n",
       "    .dataframe tbody tr th:only-of-type {\n",
       "        vertical-align: middle;\n",
       "    }\n",
       "\n",
       "    .dataframe tbody tr th {\n",
       "        vertical-align: top;\n",
       "    }\n",
       "\n",
       "    .dataframe thead th {\n",
       "        text-align: right;\n",
       "    }\n",
       "</style>\n",
       "<table border=\"1\" class=\"dataframe\">\n",
       "  <thead>\n",
       "    <tr style=\"text-align: right;\">\n",
       "      <th></th>\n",
       "      <th>time</th>\n",
       "      <th>movie_id</th>\n",
       "      <th>user_id</th>\n",
       "      <th>binary_rating</th>\n",
       "    </tr>\n",
       "  </thead>\n",
       "  <tbody>\n",
       "    <tr>\n",
       "      <th>0</th>\n",
       "      <td>0</td>\n",
       "      <td>2571</td>\n",
       "      <td>117346</td>\n",
       "      <td>0</td>\n",
       "    </tr>\n",
       "    <tr>\n",
       "      <th>1</th>\n",
       "      <td>1</td>\n",
       "      <td>1196</td>\n",
       "      <td>23499</td>\n",
       "      <td>1</td>\n",
       "    </tr>\n",
       "    <tr>\n",
       "      <th>2</th>\n",
       "      <td>2</td>\n",
       "      <td>2987</td>\n",
       "      <td>100963</td>\n",
       "      <td>0</td>\n",
       "    </tr>\n",
       "    <tr>\n",
       "      <th>3</th>\n",
       "      <td>3</td>\n",
       "      <td>2</td>\n",
       "      <td>10060</td>\n",
       "      <td>0</td>\n",
       "    </tr>\n",
       "    <tr>\n",
       "      <th>4</th>\n",
       "      <td>4</td>\n",
       "      <td>344</td>\n",
       "      <td>155856</td>\n",
       "      <td>1</td>\n",
       "    </tr>\n",
       "  </tbody>\n",
       "</table>\n",
       "</div>"
      ],
      "text/plain": [
       "   time  movie_id  user_id  binary_rating\n",
       "0     0      2571   117346              0\n",
       "1     1      1196    23499              1\n",
       "2     2      2987   100963              0\n",
       "3     3         2    10060              0\n",
       "4     4       344   155856              1"
      ]
     },
     "execution_count": 2,
     "metadata": {},
     "output_type": "execute_result"
    }
   ],
   "source": [
    "data = pd.read_csv('../Big Data/big_dataset_20000_minimum_reviews.csv', index_col='Unnamed: 0')\n",
    "df = data[['time', 'movie_id', 'user_id', 'binary_rating']]\n",
    "df.head()"
   ]
  },
  {
   "cell_type": "code",
   "execution_count": 4,
   "metadata": {},
   "outputs": [
    {
     "name": "stdout",
     "output_type": "stream",
     "text": [
      "Epoch  1\n",
      "progression : 10 %\n",
      "progression : 20 %\n",
      "progression : 30 %\n",
      "progression : 40 %\n",
      "progression : 50 %\n",
      "progression : 60 %\n",
      "progression : 70 %\n",
      "progression : 80 %\n",
      "progression : 90 %\n"
     ]
    },
    {
     "name": "stderr",
     "output_type": "stream",
     "text": [
      "c:\\Users\\Flo\\Documents\\Code\\aml_mab\\MAB Algorithm Big Data\\policy_evaluator_epsilon_greedy.py:51: SettingWithCopyWarning: \n",
      "A value is trying to be set on a copy of a slice from a DataFrame\n",
      "\n",
      "See the caveats in the documentation: https://pandas.pydata.org/pandas-docs/stable/user_guide/indexing.html#returning-a-view-versus-a-copy\n",
      "  dataframe.drop(used_data_index, inplace = True)\n"
     ]
    },
    {
     "name": "stdout",
     "output_type": "stream",
     "text": [
      "Epoch  2\n",
      "progression : 10 %\n",
      "progression : 20 %\n",
      "progression : 30 %\n",
      "progression : 40 %\n",
      "progression : 50 %\n",
      "progression : 60 %\n",
      "progression : 70 %\n",
      "progression : 80 %\n",
      "progression : 90 %\n"
     ]
    }
   ],
   "source": [
    "epochs = 2\n",
    "\n",
    "payoffs_epsilon = policy_evaluator_epsilon_min(df, epsilon_value = 0.15, epochs=epochs)\n",
    "\n",
    "pd.DataFrame(payoffs_epsilon).to_csv(f'../Plots Big Data/Data/epsilon_greedy_0.15_{epochs}_epochs.csv')"
   ]
  },
  {
   "cell_type": "code",
   "execution_count": 5,
   "metadata": {},
   "outputs": [
    {
     "data": {
      "image/png": "[encoded data removed]",
      "text/plain": [
       "<Figure size 640x480 with 1 Axes>"
      ]
     },
     "metadata": {},
     "output_type": "display_data"
    }
   ],
   "source": [
    "cumulative_average_epsilon = np.cumsum(payoffs_epsilon) / np.arange(1, len(payoffs_epsilon)+1)\n",
    "\n",
    "plt.plot(cumulative_average_epsilon)\n",
    "plt.xlabel(\"Time\")\n",
    "plt.ylabel(\"Cumulative Average Payoffs\")\n",
    "plt.title(\"Epsilon Greedy Algorithm with Epsilon = 0,15\")\n",
    "plt.ylim(0, 1)\n",
    "plt.grid(True)\n",
    "\n",
    "plt.savefig(f'../Plots Big Data/Images/Epsilon-Greedy Big Data Plot.png', dpi=300)\n",
    "plt.show()"
   ]
  }
 ],
 "metadata": {
  "kernelspec": {
   "display_name": "Python 3",
   "language": "python",
   "name": "python3"
  },
  "language_info": {
   "codemirror_mode": {
    "name": "ipython",
    "version": 3
   },
   "file_extension": ".py",
   "mimetype": "text/x-python",
   "name": "python",
   "nbconvert_exporter": "python",
   "pygments_lexer": "ipython3",
   "version": "3.9.13"
  }
 },
 "nbformat": 4,
 "nbformat_minor": 2
}
