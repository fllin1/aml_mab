{
 "cells": [
  {
   "cell_type": "code",
   "execution_count": null,
   "metadata": {},
   "outputs": [],
   "source": [
    "import pandas as pd\n",
    "import numpy as np\n",
    "import matplotlib.pyplot as plt\n",
    "\n",
    "from policy_evaluator_exp3_epoch import policy_evaluator_EXP3"
   ]
  },
  {
   "cell_type": "code",
   "execution_count": null,
   "metadata": {},
   "outputs": [],
   "source": [
    "data = pd.read_csv('../Big Data/big_dataset_20000_minimum_reviews.csv', index_col='Unnamed: 0')\n",
    "df = data[['time', 'movie_id', 'user_id', 'binary_rating', 'exp_rating']].copy()\n",
    "df.rename(columns={\"exp_rating\": \"rating\"}, inplace = True)\n",
    "df.head()"
   ]
  },
  {
   "cell_type": "code",
   "execution_count": null,
   "metadata": {},
   "outputs": [],
   "source": [
    "# The number of loops are the number of epochs\n",
    "payoffs_exp3 = policy_evaluator_EXP3(df, eta=0.7, epochs=3)\n",
    "\n",
    "#pd.DataFrame(payoffs_exp3).to_csv('../Plots Big Data/Data/exp3_0.7_3_epochs.csv')"
   ]
  },
  {
   "cell_type": "code",
   "execution_count": null,
   "metadata": {},
   "outputs": [],
   "source": [
    "cumulative_average_exp3 = np.cumsum(payoffs_exp3) / np.arange(1, len(payoffs_exp3)+1)\n",
    "\n",
    "plt.plot(cumulative_average_exp3)\n",
    "plt.xlabel(\"Time\")\n",
    "plt.ylabel(\"Cumulative Average Payoffs\")\n",
    "plt.title(\"EXP3 Algorithm with Eta = 0.7\")\n",
    "plt.ylim(0, 1)\n",
    "plt.grid(True)\n",
    "\n",
    "#plt.savefig('../Plots Big Data/Images/exp3_0.7_3_epochs.png', dpi = 300)\n",
    "plt.show()\n"
   ]
  }
 ],
 "metadata": {
  "kernelspec": {
   "display_name": "Python 3",
   "language": "python",
   "name": "python3"
  },
  "language_info": {
   "codemirror_mode": {
    "name": "ipython",
    "version": 3
   },
   "file_extension": ".py",
   "mimetype": "text/x-python",
   "name": "python",
   "nbconvert_exporter": "python",
   "pygments_lexer": "ipython3",
   "version": "3.9.13"
  }
 },
 "nbformat": 4,
 "nbformat_minor": 2
}
