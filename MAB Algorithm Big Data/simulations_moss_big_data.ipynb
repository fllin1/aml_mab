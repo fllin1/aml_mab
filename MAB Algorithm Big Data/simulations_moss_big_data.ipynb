{
 "cells": [
  {
   "cell_type": "code",
   "execution_count": null,
   "metadata": {},
   "outputs": [],
   "source": [
    "import pandas as pd\n",
    "import numpy as np\n",
    "import matplotlib.pyplot as plt\n",
    "from policy_evaluator_moss_epoch import policy_evaluator_moss_min"
   ]
  },
  {
   "cell_type": "code",
   "execution_count": null,
   "metadata": {},
   "outputs": [],
   "source": [
    "data = pd.read_csv('../Big Data/big_dataset_20000_minimum_reviews.csv', index_col='Unnamed: 0')\n",
    "df = data[['time', 'movie_id', 'user_id', 'binary_rating']]\n",
    "df.head()"
   ]
  },
  {
   "cell_type": "code",
   "execution_count": null,
   "metadata": {},
   "outputs": [],
   "source": [
    "# We are working with 2 epochs, because MOSS doesn't have time to converge on a single iteration\n",
    "payoffs_moss = policy_evaluator_moss_min(df, epochs = 3)\n",
    "\n",
    "pd.DataFrame(payoffs_moss).to_csv('../Plots Big Data/Data/moss_3_epochs.csv')"
   ]
  },
  {
   "cell_type": "code",
   "execution_count": null,
   "metadata": {},
   "outputs": [],
   "source": [
    "cumulative_average_moss = np.cumsum(payoffs_moss) / np.arange(1, len(payoffs_moss)+1)\n",
    "\n",
    "plt.plot(cumulative_average_moss)\n",
    "plt.xlabel(\"Time\")\n",
    "plt.ylabel(\"Cumulative Average Payoffs\")\n",
    "plt.title(\"Moss\")\n",
    "plt.ylim(0, 1)\n",
    "plt.grid(True)\n",
    "\n",
    "plt.savefig('../Plots Big Data/Images/moss_3_epochs.png', dpi = 300)\n",
    "plt.show()\n"
   ]
  }
 ],
 "metadata": {
  "kernelspec": {
   "display_name": "Python 3",
   "language": "python",
   "name": "python3"
  },
  "language_info": {
   "codemirror_mode": {
    "name": "ipython",
    "version": 3
   },
   "file_extension": ".py",
   "mimetype": "text/x-python",
   "name": "python",
   "nbconvert_exporter": "python",
   "pygments_lexer": "ipython3",
   "version": "3.9.13"
  }
 },
 "nbformat": 4,
 "nbformat_minor": 2
}
