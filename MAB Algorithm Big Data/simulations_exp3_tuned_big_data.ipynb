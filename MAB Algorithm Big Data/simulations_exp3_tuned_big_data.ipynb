{
 "cells": [
  {
   "cell_type": "code",
   "execution_count": null,
   "metadata": {},
   "outputs": [],
   "source": [
    "import pandas as pd\n",
    "import numpy as np\n",
    "import matplotlib.pyplot as plt\n",
    "\n",
    "from policy_evaluator_exp3_tuned_epoch import policy_evaluator_EXP3_Tuned"
   ]
  },
  {
   "cell_type": "code",
   "execution_count": null,
   "metadata": {},
   "outputs": [],
   "source": [
    "data = pd.read_csv('../Big Data/big_dataset_20000_minimum_reviews.csv', index_col='Unnamed: 0')\n",
    "df = data[['time', 'movie_id', 'user_id', 'binary_rating', 'exp_rating']].copy()\n",
    "df.rename(columns={\"exp_rating\": \"rating\"}, inplace = True)\n",
    "df.head()"
   ]
  },
  {
   "cell_type": "code",
   "execution_count": null,
   "metadata": {},
   "outputs": [],
   "source": [
    "# We set the number of epochs\n",
    "epochs = 4\n",
    "\n",
    "payoffs_exp3 = policy_evaluator_EXP3_Tuned(df, eta=0.7, rho=0.05, epochs=epochs)\n",
    "\n",
    "pd.DataFrame(payoffs_exp3).to_csv(f'../Plots Big Data/Data/exp3_tuned_0.7_0.05_{epochs}_epochs.csv')"
   ]
  },
  {
   "cell_type": "code",
   "execution_count": null,
   "metadata": {},
   "outputs": [],
   "source": [
    "cumulative_average_exp3 = np.cumsum(payoffs_exp3) / np.arange(1, len(payoffs_exp3)+1)\n",
    "\n",
    "plt.plot(cumulative_average_exp3)\n",
    "plt.xlabel(\"Time\")\n",
    "plt.ylabel(\"Cumulative Average Payoffs\")\n",
    "plt.title(\"EXP3 Algorithm with Eta = 0.7 & Rho = 0.05\")\n",
    "plt.ylim(0, 1)\n",
    "plt.grid(True)\n",
    "\n",
    "plt.savefig(f'../Plots Big Data/Images/exp3_tuned_0.7_0.05_{epochs}_epochs.png', dpi = 300)\n",
    "plt.show()"
   ]
  }
 ],
 "metadata": {
  "language_info": {
   "name": "python"
  }
 },
 "nbformat": 4,
 "nbformat_minor": 2
}
