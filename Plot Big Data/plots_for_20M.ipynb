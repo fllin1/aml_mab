{
 "cells": [
  {
   "cell_type": "code",
   "execution_count": 2,
   "metadata": {},
   "outputs": [],
   "source": [
    "import pandas as pd\n",
    "import numpy as np"
   ]
  },
  {
   "cell_type": "code",
   "execution_count": 4,
   "metadata": {},
   "outputs": [],
   "source": [
    "data = pd.read_csv('../Data/dataset_1000_minimum_reviews.csv', index_col='Unnamed: 0')"
   ]
  },
  {
   "cell_type": "code",
   "execution_count": 6,
   "metadata": {},
   "outputs": [],
   "source": [
    "def policy_evaluator_disjoint_lin_ucb(dataframe, alpha):\n",
    "    # We stock the payoffs in a list\n",
    "    payoffs = []\n",
    "    # We pull each arm once to initialize history\n",
    "    history = dataframe.groupby('movie_id').first()\n",
    "    arms = dataframe['movie_id'].unique()\n",
    "    n_arms = len(arms)\n",
    "    history['movie_id'] = history.index\n",
    "    # We drop the rows associated to the initial pull\n",
    "    rows_to_drop = history['time']\n",
    "    history['time'] = 0\n",
    "    history.reset_index(drop=True, inplace=True)\n",
    "    history = history[dataframe.columns]\n",
    "    dataframe_copy = dataframe.copy()\n",
    "    dataframe_copy.drop(rows_to_drop, inplace=True)\n",
    "    dataframe_copy.reset_index(drop=True, inplace=True)\n",
    "    dataframe_copy['time'] = dataframe_copy.index\n",
    "    # We get the number of user features\n",
    "    d = len(dataframe.iloc[0][4:])\n",
    "    # We initialize the different quantities used in our LinUCB\n",
    "    probability = np.zeros(n_arms)\n",
    "\n",
    "    A = [np.eye(d)] * n_arms\n",
    "    A_inverse = A.copy()\n",
    "    b = [np.zeros(d)] * n_arms\n",
    "    theta = [np.matmul(A[0], b[0])] * n_arms\n",
    "    \n",
    "    for t in range(1, len(dataframe_copy) + 1):\n",
    "        # We get t-th row of our dataframe\n",
    "        t_event = dataframe_copy[t-1:t]\n",
    "        # We get the recommendation of our algorithm\n",
    "        # The groupby allows to get s without adding a dictionary. It also allows us to not have a loop over each arm.\n",
    "        features = np.array(t_event.iloc[0][4:])\n",
    "        for arm in range(n_arms):\n",
    "\n",
    "            # calculate posterior distribution of the coefficient vector\n",
    "            probability[arm] = np.matmul( theta[arm], features ) + alpha * np.sqrt(np.matmul( np.matmul(features.T, A_inverse[arm]), features))\n",
    "        \n",
    "        # Even if several arms are maximizing the mean, we choose the arm with lowest id thanks to argmax\n",
    "        index_arm_chosen = probability.argmax()\n",
    "        arm_chosen = arms[index_arm_chosen]\n",
    "\n",
    "        # If arm is chosen, we update history, rewards, but also update the quantities depending on our arm\n",
    "        if arm_chosen == t_event['movie_id'].iloc[0]:\n",
    "            history.loc[len(history)] = t_event.iloc[0].to_list()\n",
    "            payoffs.append(t_event['binary_rating'].iloc[0])\n",
    "\n",
    "            features_vector = features.copy()\n",
    "            features_vector.shape = (d, 1)\n",
    "            A[index_arm_chosen] = A[index_arm_chosen] + np.matmul(features_vector, features_vector.T)\n",
    "            A_inverse[index_arm_chosen] = np.linalg.inv(A[index_arm_chosen])\n",
    "            b[index_arm_chosen] = b[index_arm_chosen] + t_event['binary_rating'].iloc[0] * features\n",
    "            theta[index_arm_chosen] = np.matmul(A_inverse[arm], b[arm])\n",
    "            \n",
    "    return payoffs"
   ]
  },
  {
   "cell_type": "code",
   "execution_count": 13,
   "metadata": {},
   "outputs": [
    {
     "data": {
      "text/plain": [
       "[array([[1., 0., 0.],\n",
       "        [0., 1., 0.],\n",
       "        [0., 0., 1.]]),\n",
       " array([[1., 0., 0.],\n",
       "        [0., 1., 0.],\n",
       "        [0., 0., 1.]]),\n",
       " array([[1., 0., 0.],\n",
       "        [0., 1., 0.],\n",
       "        [0., 0., 1.]]),\n",
       " array([[1., 0., 0.],\n",
       "        [0., 1., 0.],\n",
       "        [0., 0., 1.]])]"
      ]
     },
     "execution_count": 13,
     "metadata": {},
     "output_type": "execute_result"
    }
   ],
   "source": [
    "[np.eye(3)] * 4"
   ]
  }
 ],
 "metadata": {
  "kernelspec": {
   "display_name": "Python 3",
   "language": "python",
   "name": "python3"
  },
  "language_info": {
   "codemirror_mode": {
    "name": "ipython",
    "version": 3
   },
   "file_extension": ".py",
   "mimetype": "text/x-python",
   "name": "python",
   "nbconvert_exporter": "python",
   "pygments_lexer": "ipython3",
   "version": "3.9.13"
  }
 },
 "nbformat": 4,
 "nbformat_minor": 2
}
